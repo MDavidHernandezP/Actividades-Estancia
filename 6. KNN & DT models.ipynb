{
 "cells": [
  {
   "cell_type": "markdown",
   "id": "9bc102b8-1916-4f81-b4e7-eeeea4b9dd34",
   "metadata": {},
   "source": [
    "# 6. Entrenar modelos de regresión con KNN y DT usando los rasgos de la red preentrenada. "
   ]
  },
  {
   "cell_type": "markdown",
   "id": "6677d6d9-459c-4aad-879b-93dcf15cf23e",
   "metadata": {},
   "source": [
    "## Introduction."
   ]
  },
  {
   "cell_type": "markdown",
   "id": "a2518827-5579-4de1-b81c-be02ee2151e8",
   "metadata": {},
   "source": [
    "As the result of comparing many models with pycaret showed us, the best models that we had were the KNN and DT models, so they're what we will be using through this notebook."
   ]
  },
  {
   "cell_type": "code",
   "execution_count": 1,
   "id": "aa8f6648-0c7c-4ae4-93e2-9ab5a4bdf2be",
   "metadata": {},
   "outputs": [
    {
     "name": "stdout",
     "output_type": "stream",
     "text": [
      "GPU encontrada.\n"
     ]
    }
   ],
   "source": [
    "# Importando Librerias.\n",
    "import tensorflow as tf\n",
    "\n",
    "# Verificar si se está utilizando la GPU.\n",
    "if tf.test.gpu_device_name():\n",
    "    print('GPU encontrada.')\n",
    "else:\n",
    "    print(\"No se encontró GPU. Se utilizará la CPU.\")\n",
    "\n",
    "# Librerias adicionales:\n",
    "import numpy as np\n",
    "import pandas as pd\n",
    "import matplotlib.pyplot as plt\n",
    "import scipy.stats\n",
    "from sklearn.linear_model import LinearRegression as LR"
   ]
  },
  {
   "cell_type": "code",
   "execution_count": 2,
   "id": "2a70621b-74b6-40ba-9ea6-e8770d940332",
   "metadata": {},
   "outputs": [],
   "source": [
    "# Librerias extra para los modelos de regresion.\n",
    "from sklearn.neighbors import KNeighborsRegressor\n",
    "from sklearn.tree import DecisionTreeRegressor\n",
    "from sklearn.metrics import mean_squared_error"
   ]
  },
  {
   "cell_type": "markdown",
   "id": "88751f45-688e-4e6c-850d-1a4da0cb9a58",
   "metadata": {},
   "source": [
    "Something important to take in count is that we will be using the original data what we had at the beginning of the proyect to train the models, this means that we will be loading the hf_files and doing its respective preprocessing."
   ]
  },
  {
   "cell_type": "code",
   "execution_count": 3,
   "id": "0f8b8b5f-0481-43eb-b557-62aed1447b14",
   "metadata": {},
   "outputs": [],
   "source": [
    "# Configurando directorio principal como string.\n",
    "directorio = \"C:/Users/marit/Documents/UPY Estancia I/latpar_project/LatPars_SuperModel/\"\n",
    "\n",
    "# Cargando archivos necesarios usando nuestro string de directorio.\n",
    "hfxrd = np.load(directorio + 'hf_0100.npy')\n",
    "y = np.load(\"C:/Users/marit/Documents/UPY Estancia I/latpar_project/latpars.npy\")"
   ]
  },
  {
   "cell_type": "code",
   "execution_count": 4,
   "id": "078421ac-5e1a-4ddb-82d1-65d61fb53b59",
   "metadata": {},
   "outputs": [],
   "source": [
    "# Ultimo archivo importante extra.\n",
    "db = pd.read_csv(r\"C:/Users/marit/Documents/UPY Estancia I/latpar_project/db_peaks.csv\")"
   ]
  },
  {
   "cell_type": "code",
   "execution_count": 5,
   "id": "5c5b3898-8c9e-4503-a5ec-dbd55d611526",
   "metadata": {},
   "outputs": [],
   "source": [
    "# Cragando CSVs con nuestra Data.\n",
    "dftest = pd.read_csv(directorio + 'dftest.csv')\n",
    "dftraval = pd.read_csv(directorio + 'dftraval.csv')"
   ]
  },
  {
   "cell_type": "code",
   "execution_count": 6,
   "id": "e2a8384a-629a-4b42-8d52-9b7a2afd7a66",
   "metadata": {},
   "outputs": [],
   "source": [
    "for row in range(db.shape[0]):\n",
    "    db.at[row,'name'] = db['name'][row][:7]"
   ]
  },
  {
   "cell_type": "code",
   "execution_count": 7,
   "id": "8e8e0597-b825-4ea5-91f1-b6306662d270",
   "metadata": {},
   "outputs": [],
   "source": [
    "dftest = pd.read_csv(directorio + 'dftest.csv')\n",
    "dftraval = pd.read_csv(directorio + 'dftraval.csv')\n",
    "\n",
    "for row in range(dftest.shape[0]):\n",
    "    dftest.at[row, 'name'] = dftest['name'][row][:7]\n",
    "    \n",
    "for row in range(dftraval.shape[0]):\n",
    "    dftraval.at[row, 'name'] = dftraval['name'][row][:7]\n",
    "\n",
    "ntest = dftest.shape[0]//4\n",
    "ntraval = dftraval.shape[0]//4\n",
    "\n",
    "dftest = dftest.iloc[:ntest,:].reset_index(drop=True)\n",
    "dftraval = dftraval.iloc[:ntraval,:].reset_index(drop=True)\n",
    "\n",
    "idxtraval = [i for i in db.loc[db.name.isin([i.split('_')[0] for i in dftraval.name.values])].index]\n",
    "idxtest = [i for i in db.loc[db.name.isin([i.split('_')[0] for i in dftest.name.values])].index]\n",
    "\n",
    "hftest = hfxrd[idxtest]\n",
    "hftraval = hfxrd[idxtraval]\n",
    "\n",
    "ytest = y[idxtest]\n",
    "ytraval = y[idxtraval]"
   ]
  },
  {
   "cell_type": "code",
   "execution_count": 8,
   "id": "34328cdf-cf9c-4a8f-8313-d1f0c86001e0",
   "metadata": {},
   "outputs": [
    {
     "name": "stdout",
     "output_type": "stream",
     "text": [
      "(205331, 480)\n",
      "(205331, 6)\n",
      "(15454, 480)\n",
      "(15454, 6)\n"
     ]
    }
   ],
   "source": [
    "print(hftraval.shape)\n",
    "print(ytraval.shape)\n",
    "print(hftest.shape)\n",
    "print(ytest.shape)"
   ]
  },
  {
   "cell_type": "code",
   "execution_count": 9,
   "id": "9c1a6e4a-81cc-4e4a-ab95-5aebe9789673",
   "metadata": {},
   "outputs": [],
   "source": [
    "sgdiccio = pd.read_csv(r\"C:/Users/marit/Documents/UPY Estancia I/latpar_project/sgnum_cif.csv\")\n",
    "sgdiccio = {k:v for k,v in zip(sgdiccio.cif.values, sgdiccio.sgnum.values)}\n",
    "\n",
    "dbtest = db.take(idxtest).reset_index(drop=True)\n",
    "dbtraval = db.take(idxtraval).reset_index(drop=True)\n",
    "\n",
    "dbtest['sgnum'] = [sgdiccio.get(int(i), None) for i in dbtest.name.values]\n",
    "dbtraval['sgnum'] = [sgdiccio.get(int(i), None) for i in dbtraval.name.values]"
   ]
  },
  {
   "cell_type": "code",
   "execution_count": 10,
   "id": "a3641840-7d3c-4058-9ae0-af5eb1123be6",
   "metadata": {},
   "outputs": [],
   "source": [
    "cs = dict()\n",
    "\n",
    "for n in range(1,231):\n",
    "    \n",
    "    if n <= 2: cs[n]  = 0;\n",
    "    elif 2 < n <=15: cs[n] = 1;\n",
    "    elif 15 < n <=74: cs[n] = 2;\n",
    "    elif 74 < n <=142: cs[n] = 3;\n",
    "    elif 142 < n <=167: cs[n] = 4;\n",
    "    elif 167 < n <=194: cs[n] = 5;\n",
    "    elif 194 < n <=230: cs[n] = 6;"
   ]
  },
  {
   "cell_type": "code",
   "execution_count": 11,
   "id": "8b041b0e-3571-4fc8-a2bf-54b9e32c1121",
   "metadata": {},
   "outputs": [],
   "source": [
    "dbtest['cs'] = [cs.get(i, None) for i in dbtest.sgnum.values]\n",
    "dbtraval['cs'] = [cs.get(i, None) for i in dbtraval.sgnum.values]"
   ]
  },
  {
   "cell_type": "markdown",
   "id": "7dcafefb-5d92-4ac5-9bf3-dbeb2bb217e2",
   "metadata": {},
   "source": [
    "After all the preprocess of the data we retrieve the extracted features after processing the diffraction patterns"
   ]
  },
  {
   "cell_type": "markdown",
   "id": "f47028a5-aae8-4396-a0b4-604364c6768f",
   "metadata": {},
   "source": [
    "Following the models extension method we retrieve the orthonormal vectors to represent the crystal systems and the space groups where each crystal system will be represented as a 16-dimensional vector. We fix that length to have a 400-dimensional vector after adding the extracted features."
   ]
  },
  {
   "cell_type": "code",
   "execution_count": 12,
   "id": "cce49653-7ac6-4666-8963-6a236e28da40",
   "metadata": {},
   "outputs": [],
   "source": [
    "orthoset = scipy.stats.ortho_group.rvs(32, random_state=3451)\n",
    "csos_test = orthoset[dbtest.cs.values]\n",
    "csos_traval = orthoset[dbtraval.cs.values]"
   ]
  },
  {
   "cell_type": "markdown",
   "id": "4b6f22b8-584f-46ea-9b31-fb5832807394",
   "metadata": {},
   "source": [
    "Each space group will be represented as a 230-dimensional vector."
   ]
  },
  {
   "cell_type": "code",
   "execution_count": 13,
   "id": "d61685c4-b01d-43f5-8c30-59933d04fdc5",
   "metadata": {},
   "outputs": [],
   "source": [
    "sgoset = scipy.stats.ortho_group.rvs(230, random_state=3451)\n",
    "sgos_traval = sgoset[dbtraval.sgnum.values-1]\n",
    "sgos_test = sgoset[dbtest.sgnum.values-1]"
   ]
  },
  {
   "cell_type": "markdown",
   "id": "d7a1910b-490f-4ca0-976e-85c09dcdae53",
   "metadata": {},
   "source": [
    "## Entrenamiento de Modelos."
   ]
  },
  {
   "cell_type": "code",
   "execution_count": 14,
   "id": "e69e4356-98a8-498a-ab5a-aaef246b2f01",
   "metadata": {},
   "outputs": [
    {
     "name": "stdout",
     "output_type": "stream",
     "text": [
      "Mean Squared Error KNN: 0.5992365022584255\n",
      "Mean Squared Error Decision Tree: 1.3529933970904675\n"
     ]
    }
   ],
   "source": [
    "# Ejemplo de datos de entrada y salida (arrays de NumPy)   # Implementar random forest y quitar decision tree.\n",
    "X_train_arrays = hftraval\n",
    "y_train = ytraval\n",
    "\n",
    "# Inicializar y entrenar un modelo de regresión KNN\n",
    "knn_model = KNeighborsRegressor(n_neighbors=5)\n",
    "knn_model.fit(X_train_arrays, y_train)\n",
    "\n",
    "# Inicializar y entrenar un modelo de regresión de árbol de decisión\n",
    "dt_model = DecisionTreeRegressor()\n",
    "dt_model.fit(X_train_arrays, y_train)\n",
    "\n",
    "# Evaluar los modelos (esto sería con datos de prueba)\n",
    "X_test_arrays = hftest\n",
    "y_test = ytest\n",
    "\n",
    "predicciones_knn = knn_model.predict(X_test_arrays)\n",
    "predicciones_dt = dt_model.predict(X_test_arrays)\n",
    "\n",
    "#Evaluar el rendimiento del modelo\n",
    "hf_mse_knn = mean_squared_error(y_test, predicciones_knn)\n",
    "hf_mse_dt = mean_squared_error(y_test, predicciones_dt)\n",
    "\n",
    "#Imprimir resultados\n",
    "print(\"Mean Squared Error KNN:\", hf_mse_knn)\n",
    "print(\"Mean Squared Error Decision Tree:\", hf_mse_dt)"
   ]
  },
  {
   "cell_type": "code",
   "execution_count": 19,
   "id": "7893a214-8399-4cf1-8a20-e1b43fa8ae8a",
   "metadata": {},
   "outputs": [
    {
     "ename": "ValueError",
     "evalue": "y_true and y_pred have different number of output (6!=1)",
     "output_type": "error",
     "traceback": [
      "\u001b[1;31m---------------------------------------------------------------------------\u001b[0m",
      "\u001b[1;31mValueError\u001b[0m                                Traceback (most recent call last)",
      "Cell \u001b[1;32mIn[19], line 2\u001b[0m\n\u001b[0;32m      1\u001b[0m \u001b[38;5;66;03m#Evaluar el rendimiento del modelo\u001b[39;00m\n\u001b[1;32m----> 2\u001b[0m hf_mse_knn \u001b[38;5;241m=\u001b[39m \u001b[43mmean_squared_error\u001b[49m\u001b[43m(\u001b[49m\u001b[43my_test\u001b[49m\u001b[43m,\u001b[49m\u001b[43m \u001b[49m\u001b[43mpredicciones_knn\u001b[49m\u001b[43m[\u001b[49m\u001b[43m:\u001b[49m\u001b[43m,\u001b[49m\u001b[38;5;241;43m3\u001b[39;49m\u001b[43m]\u001b[49m\u001b[43m)\u001b[49m\n\u001b[0;32m      3\u001b[0m hf_mse_dt \u001b[38;5;241m=\u001b[39m mean_squared_error(y_test, predicciones_dt[:,:\u001b[38;5;241m3\u001b[39m])\n\u001b[0;32m      5\u001b[0m \u001b[38;5;66;03m#Imprimir resultados\u001b[39;00m\n",
      "File \u001b[1;32m~\\anaconda3\\envs\\py310\\lib\\site-packages\\sklearn\\utils\\_param_validation.py:213\u001b[0m, in \u001b[0;36mvalidate_params.<locals>.decorator.<locals>.wrapper\u001b[1;34m(*args, **kwargs)\u001b[0m\n\u001b[0;32m    207\u001b[0m \u001b[38;5;28;01mtry\u001b[39;00m:\n\u001b[0;32m    208\u001b[0m     \u001b[38;5;28;01mwith\u001b[39;00m config_context(\n\u001b[0;32m    209\u001b[0m         skip_parameter_validation\u001b[38;5;241m=\u001b[39m(\n\u001b[0;32m    210\u001b[0m             prefer_skip_nested_validation \u001b[38;5;129;01mor\u001b[39;00m global_skip_validation\n\u001b[0;32m    211\u001b[0m         )\n\u001b[0;32m    212\u001b[0m     ):\n\u001b[1;32m--> 213\u001b[0m         \u001b[38;5;28;01mreturn\u001b[39;00m func(\u001b[38;5;241m*\u001b[39margs, \u001b[38;5;241m*\u001b[39m\u001b[38;5;241m*\u001b[39mkwargs)\n\u001b[0;32m    214\u001b[0m \u001b[38;5;28;01mexcept\u001b[39;00m InvalidParameterError \u001b[38;5;28;01mas\u001b[39;00m e:\n\u001b[0;32m    215\u001b[0m     \u001b[38;5;66;03m# When the function is just a wrapper around an estimator, we allow\u001b[39;00m\n\u001b[0;32m    216\u001b[0m     \u001b[38;5;66;03m# the function to delegate validation to the estimator, but we replace\u001b[39;00m\n\u001b[0;32m    217\u001b[0m     \u001b[38;5;66;03m# the name of the estimator by the name of the function in the error\u001b[39;00m\n\u001b[0;32m    218\u001b[0m     \u001b[38;5;66;03m# message to avoid confusion.\u001b[39;00m\n\u001b[0;32m    219\u001b[0m     msg \u001b[38;5;241m=\u001b[39m re\u001b[38;5;241m.\u001b[39msub(\n\u001b[0;32m    220\u001b[0m         \u001b[38;5;124mr\u001b[39m\u001b[38;5;124m\"\u001b[39m\u001b[38;5;124mparameter of \u001b[39m\u001b[38;5;124m\\\u001b[39m\u001b[38;5;124mw+ must be\u001b[39m\u001b[38;5;124m\"\u001b[39m,\n\u001b[0;32m    221\u001b[0m         \u001b[38;5;124mf\u001b[39m\u001b[38;5;124m\"\u001b[39m\u001b[38;5;124mparameter of \u001b[39m\u001b[38;5;132;01m{\u001b[39;00mfunc\u001b[38;5;241m.\u001b[39m\u001b[38;5;18m__qualname__\u001b[39m\u001b[38;5;132;01m}\u001b[39;00m\u001b[38;5;124m must be\u001b[39m\u001b[38;5;124m\"\u001b[39m,\n\u001b[0;32m    222\u001b[0m         \u001b[38;5;28mstr\u001b[39m(e),\n\u001b[0;32m    223\u001b[0m     )\n",
      "File \u001b[1;32m~\\anaconda3\\envs\\py310\\lib\\site-packages\\sklearn\\metrics\\_regression.py:497\u001b[0m, in \u001b[0;36mmean_squared_error\u001b[1;34m(y_true, y_pred, sample_weight, multioutput, squared)\u001b[0m\n\u001b[0;32m    492\u001b[0m     \u001b[38;5;28;01mif\u001b[39;00m \u001b[38;5;129;01mnot\u001b[39;00m squared:\n\u001b[0;32m    493\u001b[0m         \u001b[38;5;28;01mreturn\u001b[39;00m root_mean_squared_error(\n\u001b[0;32m    494\u001b[0m             y_true, y_pred, sample_weight\u001b[38;5;241m=\u001b[39msample_weight, multioutput\u001b[38;5;241m=\u001b[39mmultioutput\n\u001b[0;32m    495\u001b[0m         )\n\u001b[1;32m--> 497\u001b[0m y_type, y_true, y_pred, multioutput \u001b[38;5;241m=\u001b[39m \u001b[43m_check_reg_targets\u001b[49m\u001b[43m(\u001b[49m\n\u001b[0;32m    498\u001b[0m \u001b[43m    \u001b[49m\u001b[43my_true\u001b[49m\u001b[43m,\u001b[49m\u001b[43m \u001b[49m\u001b[43my_pred\u001b[49m\u001b[43m,\u001b[49m\u001b[43m \u001b[49m\u001b[43mmultioutput\u001b[49m\n\u001b[0;32m    499\u001b[0m \u001b[43m\u001b[49m\u001b[43m)\u001b[49m\n\u001b[0;32m    500\u001b[0m check_consistent_length(y_true, y_pred, sample_weight)\n\u001b[0;32m    501\u001b[0m output_errors \u001b[38;5;241m=\u001b[39m np\u001b[38;5;241m.\u001b[39maverage((y_true \u001b[38;5;241m-\u001b[39m y_pred) \u001b[38;5;241m*\u001b[39m\u001b[38;5;241m*\u001b[39m \u001b[38;5;241m2\u001b[39m, axis\u001b[38;5;241m=\u001b[39m\u001b[38;5;241m0\u001b[39m, weights\u001b[38;5;241m=\u001b[39msample_weight)\n",
      "File \u001b[1;32m~\\anaconda3\\envs\\py310\\lib\\site-packages\\sklearn\\metrics\\_regression.py:113\u001b[0m, in \u001b[0;36m_check_reg_targets\u001b[1;34m(y_true, y_pred, multioutput, dtype)\u001b[0m\n\u001b[0;32m    110\u001b[0m     y_pred \u001b[38;5;241m=\u001b[39m y_pred\u001b[38;5;241m.\u001b[39mreshape((\u001b[38;5;241m-\u001b[39m\u001b[38;5;241m1\u001b[39m, \u001b[38;5;241m1\u001b[39m))\n\u001b[0;32m    112\u001b[0m \u001b[38;5;28;01mif\u001b[39;00m y_true\u001b[38;5;241m.\u001b[39mshape[\u001b[38;5;241m1\u001b[39m] \u001b[38;5;241m!=\u001b[39m y_pred\u001b[38;5;241m.\u001b[39mshape[\u001b[38;5;241m1\u001b[39m]:\n\u001b[1;32m--> 113\u001b[0m     \u001b[38;5;28;01mraise\u001b[39;00m \u001b[38;5;167;01mValueError\u001b[39;00m(\n\u001b[0;32m    114\u001b[0m         \u001b[38;5;124m\"\u001b[39m\u001b[38;5;124my_true and y_pred have different number of output (\u001b[39m\u001b[38;5;132;01m{0}\u001b[39;00m\u001b[38;5;124m!=\u001b[39m\u001b[38;5;132;01m{1}\u001b[39;00m\u001b[38;5;124m)\u001b[39m\u001b[38;5;124m\"\u001b[39m\u001b[38;5;241m.\u001b[39mformat(\n\u001b[0;32m    115\u001b[0m             y_true\u001b[38;5;241m.\u001b[39mshape[\u001b[38;5;241m1\u001b[39m], y_pred\u001b[38;5;241m.\u001b[39mshape[\u001b[38;5;241m1\u001b[39m]\n\u001b[0;32m    116\u001b[0m         )\n\u001b[0;32m    117\u001b[0m     )\n\u001b[0;32m    119\u001b[0m n_outputs \u001b[38;5;241m=\u001b[39m y_true\u001b[38;5;241m.\u001b[39mshape[\u001b[38;5;241m1\u001b[39m]\n\u001b[0;32m    120\u001b[0m allowed_multioutput_str \u001b[38;5;241m=\u001b[39m (\u001b[38;5;124m\"\u001b[39m\u001b[38;5;124mraw_values\u001b[39m\u001b[38;5;124m\"\u001b[39m, \u001b[38;5;124m\"\u001b[39m\u001b[38;5;124muniform_average\u001b[39m\u001b[38;5;124m\"\u001b[39m, \u001b[38;5;124m\"\u001b[39m\u001b[38;5;124mvariance_weighted\u001b[39m\u001b[38;5;124m\"\u001b[39m)\n",
      "\u001b[1;31mValueError\u001b[0m: y_true and y_pred have different number of output (6!=1)"
     ]
    }
   ],
   "source": [
    "#Evaluar el rendimiento del modelo\n",
    "hf_mse_knn = mean_squared_error(y_test, predicciones_knn[:,:3])\n",
    "hf_mse_dt = mean_squared_error(y_test, predicciones_dt[:,:3])\n",
    "\n",
    "#Imprimir resultados\n",
    "print(\"Mean Squared Error KNN:\", hf_mse_knn)\n",
    "print(\"Mean Squared Error Decision Tree:\", hf_mse_dt)"
   ]
  },
  {
   "cell_type": "code",
   "execution_count": 15,
   "id": "7edf4e4b-c4c7-4d5a-a750-279ff0373ae7",
   "metadata": {},
   "outputs": [
    {
     "name": "stdout",
     "output_type": "stream",
     "text": [
      "Root Mean Squared Error KNN: 0.774103676685769\n",
      "Root Mean Squared Error Decision Tree: 1.1631824435962175\n"
     ]
    }
   ],
   "source": [
    "# Calcular el RMSE para el modelo KNN\n",
    "hf_rmse_knn = np.sqrt(hf_mse_knn)\n",
    "\n",
    "# Calcular el RMSE para el modelo de árbol de decisión\n",
    "hf_rmse_dt = np.sqrt(hf_mse_dt)\n",
    "\n",
    "# Imprimir resultados\n",
    "print(\"Root Mean Squared Error KNN:\", hf_rmse_knn)\n",
    "print(\"Root Mean Squared Error Decision Tree:\", hf_rmse_dt)"
   ]
  },
  {
   "cell_type": "code",
   "execution_count": 16,
   "id": "23e2ba06-84e1-4b65-b049-3e0eac601d22",
   "metadata": {},
   "outputs": [
    {
     "data": {
      "image/png": "[encoded data removed]",
      "text/plain": [
       "<Figure size 640x480 with 1 Axes>"
      ]
     },
     "metadata": {},
     "output_type": "display_data"
    }
   ],
   "source": [
    "# Crear una lista con los nombres de los modelos\n",
    "model_names = ['KNN', 'Decision Tree']\n",
    "\n",
    "# Crear una lista con los valores de los MSE correspondientes\n",
    "mse_values = [hf_mse_knn, hf_mse_dt]\n",
    "\n",
    "# Graficar los MSE\n",
    "plt.bar(model_names, mse_values, color=['blue', 'green'])\n",
    "plt.xlabel('Model')\n",
    "plt.ylabel('Mean Squared Error (MSE)')\n",
    "plt.title('Mean Squared Error of Regression Models')\n",
    "plt.show()"
   ]
  },
  {
   "cell_type": "code",
   "execution_count": 17,
   "id": "ddf4c19b-644f-4d27-86ee-21480104fe03",
   "metadata": {},
   "outputs": [
    {
     "ename": "NameError",
     "evalue": "name 'y_test_flat' is not defined",
     "output_type": "error",
     "traceback": [
      "\u001b[1;31m---------------------------------------------------------------------------\u001b[0m",
      "\u001b[1;31mNameError\u001b[0m                                 Traceback (most recent call last)",
      "Cell \u001b[1;32mIn[17], line 8\u001b[0m\n\u001b[0;32m      5\u001b[0m plt\u001b[38;5;241m.\u001b[39mscatter(y_test, predicciones_knn, color\u001b[38;5;241m=\u001b[39m\u001b[38;5;124m'\u001b[39m\u001b[38;5;124mblue\u001b[39m\u001b[38;5;124m'\u001b[39m, label\u001b[38;5;241m=\u001b[39m\u001b[38;5;124m'\u001b[39m\u001b[38;5;124mKNN\u001b[39m\u001b[38;5;124m'\u001b[39m)\n\u001b[0;32m      7\u001b[0m \u001b[38;5;66;03m# Graficar la línea diagonal para representar la predicción perfecta\u001b[39;00m\n\u001b[1;32m----> 8\u001b[0m plt\u001b[38;5;241m.\u001b[39mplot([\u001b[38;5;28mmin\u001b[39m(\u001b[43my_test_flat\u001b[49m), \u001b[38;5;28mmax\u001b[39m(y_test_flat)], [\u001b[38;5;28mmin\u001b[39m(y_test_flat), \u001b[38;5;28mmax\u001b[39m(y_test_flat)], color\u001b[38;5;241m=\u001b[39m\u001b[38;5;124m'\u001b[39m\u001b[38;5;124mred\u001b[39m\u001b[38;5;124m'\u001b[39m, linestyle\u001b[38;5;241m=\u001b[39m\u001b[38;5;124m'\u001b[39m\u001b[38;5;124m--\u001b[39m\u001b[38;5;124m'\u001b[39m)\n\u001b[0;32m     10\u001b[0m \u001b[38;5;66;03m# Etiquetas y título\u001b[39;00m\n\u001b[0;32m     11\u001b[0m plt\u001b[38;5;241m.\u001b[39mxlabel(\u001b[38;5;124m'\u001b[39m\u001b[38;5;124mValores reales\u001b[39m\u001b[38;5;124m'\u001b[39m)\n",
      "\u001b[1;31mNameError\u001b[0m: name 'y_test_flat' is not defined"
     ]
    },
    {
     "data": {
      "image/png": "[encoded data removed]",
      "text/plain": [
       "<Figure size 1000x500 with 1 Axes>"
      ]
     },
     "metadata": {},
     "output_type": "display_data"
    }
   ],
   "source": [
    "# Crear una figura y ejes para el gráfico de dispersión\n",
    "plt.figure(figsize=(10, 5))\n",
    "\n",
    "# Graficar la dispersión para el modelo KNN\n",
    "plt.scatter(y_test, predicciones_knn, color='blue', label='KNN')\n",
    "\n",
    "# Graficar la línea diagonal para representar la predicción perfecta\n",
    "plt.plot([min(y_test_flat), max(y_test_flat)], [min(y_test_flat), max(y_test_flat)], color='red', linestyle='--')\n",
    "\n",
    "# Etiquetas y título\n",
    "plt.xlabel('Valores reales')\n",
    "plt.ylabel('Predicciones')\n",
    "plt.title('Dispersión entre valores reales y predicciones')\n",
    "plt.legend()\n",
    "\n",
    "# Mostrar el gráfico\n",
    "plt.show()"
   ]
  },
  {
   "cell_type": "code",
   "execution_count": null,
   "id": "65f51262-8cf2-471e-897c-2739ca4b82ae",
   "metadata": {},
   "outputs": [],
   "source": [
    "# Crear una figura y ejes para el gráfico de dispersión\n",
    "plt.figure(figsize=(10, 5))\n",
    "\n",
    "# Graficar la dispersión para el modelo de árbol de decisión\n",
    "plt.scatter(y_test, predicciones_dt, color='green', label='Decision Tree')\n",
    "\n",
    "# Graficar la línea diagonal para representar la predicción perfecta\n",
    "plt.plot([min(y_test_flat), max(y_test_flat)], [min(y_test_flat), max(y_test_flat)], color='red', linestyle='--')\n",
    "\n",
    "# Etiquetas y título\n",
    "plt.xlabel('Valores reales')\n",
    "plt.ylabel('Predicciones')\n",
    "plt.title('Dispersión entre valores reales y predicciones')\n",
    "plt.legend()\n",
    "\n",
    "# Mostrar el gráfico\n",
    "plt.show()"
   ]
  },
  {
   "cell_type": "markdown",
   "id": "b34854aa-3867-4188-a1f3-ee7abb8a498c",
   "metadata": {
    "jp-MarkdownHeadingCollapsed": true
   },
   "source": [
    "## Entrenamiento de Modelos (Datos con sistemas cristalinos)."
   ]
  },
  {
   "cell_type": "code",
   "execution_count": null,
   "id": "1255dee3-5bfe-4486-9367-971822f92d3e",
   "metadata": {},
   "outputs": [],
   "source": [
    "rctest = np.concatenate((hftest, csos_test), axis=-1)\n",
    "rctraval = np.concatenate((hftraval, csos_traval), axis=-1)"
   ]
  },
  {
   "cell_type": "code",
   "execution_count": null,
   "id": "16425110-48e2-4f7f-bba3-a1ea8da8f6a5",
   "metadata": {},
   "outputs": [],
   "source": [
    "# Ejemplo de datos de entrada y salida (arrays de NumPy)\n",
    "X_train_arrays = rctraval\n",
    "y_train = ytraval\n",
    "\n",
    "# Inicializar y entrenar un modelo de regresión KNN\n",
    "knn_model = KNeighborsRegressor(n_neighbors=5)\n",
    "knn_model.fit(X_train_arrays, y_train)\n",
    "\n",
    "# Inicializar y entrenar un modelo de regresión de árbol de decisión\n",
    "dt_model = DecisionTreeRegressor()\n",
    "dt_model.fit(X_train_arrays, y_train)\n",
    "\n",
    "# Evaluar los modelos (esto sería con datos de prueba)\n",
    "X_test_arrays = rctest\n",
    "y_test = ytest\n",
    "\n",
    "rc_predicciones_knn = knn_model.predict(X_test_arrays)\n",
    "rc_predicciones_dt = dt_model.predict(X_test_arrays)\n",
    "\n",
    "#Evaluar el rendimiento del modelo\n",
    "rc_mse_knn = mean_squared_error(y_test, rc_predicciones_knn)\n",
    "rc_mse_dt = mean_squared_error(y_test, rc_predicciones_dt)\n",
    "\n",
    "#Imprimir resultados\n",
    "print(\"Mean Squared Error KNN:\", rc_mse_knn)\n",
    "print(\"Mean Squared Error Decision Tree:\", rc_mse_dt)"
   ]
  },
  {
   "cell_type": "code",
   "execution_count": null,
   "id": "1489040d-011d-4556-83d8-38ea5ddd20ae",
   "metadata": {},
   "outputs": [],
   "source": [
    "# Calcular el RMSE para el modelo KNN\n",
    "rc_rmse_knn = np.sqrt(rc_mse_knn)\n",
    "\n",
    "# Calcular el RMSE para el modelo de árbol de decisión\n",
    "rc_rmse_dt = np.sqrt(rc_mse_dt)\n",
    "\n",
    "# Imprimir resultados\n",
    "print(\"Root Mean Squared Error KNN:\", rc_rmse_knn)\n",
    "print(\"Root Mean Squared Error Decision Tree:\", rc_rmse_dt)"
   ]
  },
  {
   "cell_type": "code",
   "execution_count": null,
   "id": "445a3c8c-2700-454d-ad37-7739d93750c8",
   "metadata": {},
   "outputs": [],
   "source": [
    "# Crear una lista con los nombres de los modelos\n",
    "model_names = ['KNN', 'Decision Tree']\n",
    "\n",
    "# Crear una lista con los valores de los MSE correspondientes\n",
    "mse_values = [rc_mse_knn, rc_mse_dt]\n",
    "\n",
    "# Graficar los MSE\n",
    "plt.bar(model_names, mse_values, color=['blue', 'green'])\n",
    "plt.xlabel('Model')\n",
    "plt.ylabel('Mean Squared Error (MSE)')\n",
    "plt.title('Mean Squared Error of Regression Models')\n",
    "plt.show()"
   ]
  },
  {
   "cell_type": "code",
   "execution_count": null,
   "id": "b9e46acc-6a91-4d04-a05f-eb55c759851b",
   "metadata": {},
   "outputs": [],
   "source": [
    "# Crear una figura y ejes para el gráfico de dispersión\n",
    "plt.figure(figsize=(10, 5))\n",
    "\n",
    "# Graficar la dispersión para el modelo KNN\n",
    "plt.scatter(y_test, rc_predicciones_knn, color='blue', label='KNN')\n",
    "\n",
    "# Graficar la línea diagonal para representar la predicción perfecta\n",
    "plt.plot([min(y_test_flat), max(y_test_flat)], [min(y_test_flat), max(y_test_flat)], color='red', linestyle='--')\n",
    "\n",
    "# Etiquetas y título\n",
    "plt.xlabel('Valores reales')\n",
    "plt.ylabel('Predicciones')\n",
    "plt.title('Dispersión entre valores reales y predicciones')\n",
    "plt.legend()\n",
    "\n",
    "# Mostrar el gráfico\n",
    "plt.show()"
   ]
  },
  {
   "cell_type": "code",
   "execution_count": null,
   "id": "ef7c9905-21ae-488c-a9ef-dc2d36d1fb17",
   "metadata": {},
   "outputs": [],
   "source": [
    "# Crear una figura y ejes para el gráfico de dispersión\n",
    "plt.figure(figsize=(10, 5))\n",
    "\n",
    "# Graficar la dispersión para el modelo de árbol de decisión\n",
    "plt.scatter(y_test, rc_predicciones_dt, color='green', label='Decision Tree')\n",
    "\n",
    "# Graficar la línea diagonal para representar la predicción perfecta\n",
    "plt.plot([min(y_test_flat), max(y_test_flat)], [min(y_test_flat), max(y_test_flat)], color='red', linestyle='--')\n",
    "\n",
    "# Etiquetas y título\n",
    "plt.xlabel('Valores reales')\n",
    "plt.ylabel('Predicciones')\n",
    "plt.title('Dispersión entre valores reales y predicciones')\n",
    "plt.legend()\n",
    "\n",
    "# Mostrar el gráfico\n",
    "plt.show()"
   ]
  },
  {
   "cell_type": "markdown",
   "id": "0737861d-f237-4bbb-aff5-7e8794b0cd45",
   "metadata": {},
   "source": [
    "## Entrenamiento de Modelos (Datos con grupos espaciales)."
   ]
  },
  {
   "cell_type": "code",
   "execution_count": null,
   "id": "ee2653b0-7cf0-43ab-9b0e-222f2cb2bdee",
   "metadata": {},
   "outputs": [],
   "source": [
    "spgtest = np.concatenate((hftest, sgos_test), axis=-1)\n",
    "spgtraval = np.concatenate((hftraval, sgos_traval), axis=-1)"
   ]
  },
  {
   "cell_type": "code",
   "execution_count": null,
   "id": "ecdeee81-e874-42e0-8f71-c883fc316a7a",
   "metadata": {},
   "outputs": [],
   "source": [
    "# Ejemplo de datos de entrada y salida (arrays de NumPy)\n",
    "X_train_arrays = spgtraval\n",
    "y_train = ytraval\n",
    "\n",
    "# Inicializar y entrenar un modelo de regresión KNN\n",
    "knn_model = KNeighborsRegressor(n_neighbors=5)\n",
    "knn_model.fit(X_train_arrays, y_train)\n",
    "\n",
    "# Inicializar y entrenar un modelo de regresión de árbol de decisión\n",
    "dt_model = DecisionTreeRegressor()\n",
    "dt_model.fit(X_train_arrays, y_train)\n",
    "\n",
    "# Evaluar los modelos (esto sería con datos de prueba)\n",
    "X_test_arrays = spgtest\n",
    "y_test = ytest\n",
    "\n",
    "spg_predicciones_knn = knn_model.predict(X_test_arrays)\n",
    "spg_predicciones_dt = dt_model.predict(X_test_arrays)\n",
    "\n",
    "#Evaluar el rendimiento del modelo\n",
    "spg_mse_knn = mean_squared_error(y_test, spg_predicciones_knn)\n",
    "spg_mse_dt = mean_squared_error(y_test, spg_predicciones_dt)\n",
    "\n",
    "#Imprimir resultados\n",
    "print(\"Mean Squared Error KNN:\", spg_mse_knn)\n",
    "print(\"Mean Squared Error Decision Tree:\", spg_mse_dt)"
   ]
  },
  {
   "cell_type": "code",
   "execution_count": null,
   "id": "984f773d-84d2-4b9e-9e0b-ce4b40004886",
   "metadata": {},
   "outputs": [],
   "source": [
    "# Calcular el RMSE para el modelo KNN\n",
    "spg_rmse_knn = np.sqrt(spg_mse_knn)\n",
    "\n",
    "# Calcular el RMSE para el modelo de árbol de decisión\n",
    "spg_rmse_dt = np.sqrt(spg_mse_dt)\n",
    "\n",
    "# Imprimir resultados\n",
    "print(\"Root Mean Squared Error KNN:\", spg_rmse_knn)\n",
    "print(\"Root Mean Squared Error Decision Tree:\", spg_rmse_dt)"
   ]
  },
  {
   "cell_type": "code",
   "execution_count": null,
   "id": "67f194e4-d7f1-4743-9d85-83bf67139727",
   "metadata": {},
   "outputs": [],
   "source": [
    "# Crear una lista con los nombres de los modelos\n",
    "model_names = ['KNN', 'Decision Tree']\n",
    "\n",
    "# Crear una lista con los valores de los MSE correspondientes\n",
    "mse_values = [spg_mse_knn, spg_mse_dt]\n",
    "\n",
    "# Graficar los MSE\n",
    "plt.bar(model_names, mse_values, color=['blue', 'green'])\n",
    "plt.xlabel('Model')\n",
    "plt.ylabel('Mean Squared Error (MSE)')\n",
    "plt.title('Mean Squared Error of Regression Models')\n",
    "plt.show()"
   ]
  },
  {
   "cell_type": "code",
   "execution_count": null,
   "id": "6df64c23-8868-457b-bf97-74c03d906a40",
   "metadata": {},
   "outputs": [],
   "source": [
    "# Crear una figura y ejes para el gráfico de dispersión\n",
    "plt.figure(figsize=(10, 5))\n",
    "\n",
    "# Graficar la dispersión para el modelo KNN\n",
    "plt.scatter(y_test, spg_predicciones_knn, color='blue', label='KNN')\n",
    "\n",
    "# Graficar la línea diagonal para representar la predicción perfecta\n",
    "plt.plot([min(y_test_flat), max(y_test_flat)], [min(y_test_flat), max(y_test_flat)], color='red', linestyle='--')\n",
    "\n",
    "# Etiquetas y título\n",
    "plt.xlabel('Valores reales')\n",
    "plt.ylabel('Predicciones')\n",
    "plt.title('Dispersión entre valores reales y predicciones')\n",
    "plt.legend()\n",
    "\n",
    "# Mostrar el gráfico\n",
    "plt.show()"
   ]
  },
  {
   "cell_type": "code",
   "execution_count": null,
   "id": "c6e50999-283a-42f7-a062-b52a7acebeda",
   "metadata": {},
   "outputs": [],
   "source": [
    "# Crear una figura y ejes para el gráfico de dispersión\n",
    "plt.figure(figsize=(10, 5))\n",
    "\n",
    "# Graficar la dispersión para el modelo de árbol de decisión\n",
    "plt.scatter(y_test, spg_predicciones_dt, color='green', label='Decision Tree')\n",
    "\n",
    "# Graficar la línea diagonal para representar la predicción perfecta\n",
    "plt.plot([min(y_test_flat), max(y_test_flat)], [min(y_test_flat), max(y_test_flat)], color='red', linestyle='--')\n",
    "\n",
    "# Etiquetas y título\n",
    "plt.xlabel('Valores reales')\n",
    "plt.ylabel('Predicciones')\n",
    "plt.title('Dispersión entre valores reales y predicciones')\n",
    "plt.legend()\n",
    "\n",
    "# Mostrar el gráfico\n",
    "plt.show()"
   ]
  }
 ],
 "metadata": {
  "kernelspec": {
   "display_name": "Python 3 (ipykernel)",
   "language": "python",
   "name": "python3"
  },
  "language_info": {
   "codemirror_mode": {
    "name": "ipython",
    "version": 3
   },
   "file_extension": ".py",
   "mimetype": "text/x-python",
   "name": "python",
   "nbconvert_exporter": "python",
   "pygments_lexer": "ipython3",
   "version": "3.10.14"
  }
 },
 "nbformat": 4,
 "nbformat_minor": 5
}
